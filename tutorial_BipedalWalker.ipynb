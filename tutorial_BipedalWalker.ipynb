{
  "nbformat": 4,
  "nbformat_minor": 0,
  "metadata": {
    "colab": {
      "name": "BipedalWalker_Example.ipynb",
      "provenance": [],
      "collapsed_sections": [],
      "include_colab_link": true
    },
    "kernelspec": {
      "name": "python3",
      "display_name": "Python 3"
    },
    "accelerator": "GPU"
  },
  "cells": [
    {
      "cell_type": "markdown",
      "metadata": {
        "id": "view-in-github",
        "colab_type": "text"
      },
      "source": [
        "<a href=\"https://colab.research.google.com/github/AI4Finance-Foundation/ElegantRL/blob/master/tutorial_BipedalWalker.ipynb\" target=\"_parent\"><img src=\"https://colab.research.google.com/assets/colab-badge.svg\" alt=\"Open In Colab\"/></a>"
      ]
    },
    {
      "cell_type": "markdown",
      "metadata": {
        "id": "c1gUG3OCJ5GS"
      },
      "source": [
        "# **BipedalWalker-v3 Example in ElegantRL**\n",
        "\n",
        "\n",
        "\n",
        "\n"
      ]
    },
    {
      "cell_type": "markdown",
      "metadata": {
        "id": "FGXyBBvL0dR2"
      },
      "source": [
        "# **Part 1: Testing Task Description**\n",
        "\n",
        "[BipedalWalker-v3](https://gym.openai.com/envs/BipedalWalker-v2/) is a robotic task in OpenAI Gym since it performs one of the most fundamental skills: moving. In this task, our goal is to make a 2D biped walker to walk through rough terrain. BipedalWalker is a difficult task in continuous action space, and there are only a few RL implementations can reach the target reward."
      ]
    },
    {
      "cell_type": "markdown",
      "metadata": {
        "id": "DbamGVHC3AeW"
      },
      "source": [
        "# **Part 2: Install ElegantRL**"
      ]
    },
    {
      "cell_type": "code",
      "metadata": {
        "id": "U35bhkUqOqbS",
        "colab": {
          "base_uri": "https://localhost:8080/"
        },
        "outputId": "c25f9672-af08-462c-ae12-ca789202a059"
      },
      "source": [
        "# install elegantrl library\n",
        "!pip install git+https://github.com/AI4Finance-LLC/ElegantRL.git"
      ],
      "execution_count": 1,
      "outputs": [
        {
          "output_type": "stream",
          "name": "stdout",
          "text": [
            "Collecting git+https://github.com/AI4Finance-LLC/ElegantRL.git\n",
            "  Cloning https://github.com/AI4Finance-LLC/ElegantRL.git to /tmp/pip-req-build-djcx1xlf\n",
            "  Running command git clone -q https://github.com/AI4Finance-LLC/ElegantRL.git /tmp/pip-req-build-djcx1xlf\n",
            "Requirement already satisfied: gym in /usr/local/lib/python3.7/dist-packages (from elegantrl==0.3.2) (0.17.3)\n",
            "Requirement already satisfied: matplotlib in /usr/local/lib/python3.7/dist-packages (from elegantrl==0.3.2) (3.2.2)\n",
            "Requirement already satisfied: numpy in /usr/local/lib/python3.7/dist-packages (from elegantrl==0.3.2) (1.19.5)\n",
            "Collecting pybullet\n",
            "  Downloading pybullet-3.2.0-cp37-cp37m-manylinux1_x86_64.whl (89.3 MB)\n",
            "\u001b[K     |████████████████████████████████| 89.3 MB 27 kB/s \n",
            "\u001b[?25hRequirement already satisfied: torch in /usr/local/lib/python3.7/dist-packages (from elegantrl==0.3.2) (1.10.0+cu111)\n",
            "Requirement already satisfied: opencv-python in /usr/local/lib/python3.7/dist-packages (from elegantrl==0.3.2) (4.1.2.30)\n",
            "Collecting box2d-py\n",
            "  Downloading box2d_py-2.3.8-cp37-cp37m-manylinux1_x86_64.whl (448 kB)\n",
            "\u001b[K     |████████████████████████████████| 448 kB 46.3 MB/s \n",
            "\u001b[?25hRequirement already satisfied: cloudpickle<1.7.0,>=1.2.0 in /usr/local/lib/python3.7/dist-packages (from gym->elegantrl==0.3.2) (1.3.0)\n",
            "Requirement already satisfied: scipy in /usr/local/lib/python3.7/dist-packages (from gym->elegantrl==0.3.2) (1.4.1)\n",
            "Requirement already satisfied: pyglet<=1.5.0,>=1.4.0 in /usr/local/lib/python3.7/dist-packages (from gym->elegantrl==0.3.2) (1.5.0)\n",
            "Requirement already satisfied: future in /usr/local/lib/python3.7/dist-packages (from pyglet<=1.5.0,>=1.4.0->gym->elegantrl==0.3.2) (0.16.0)\n",
            "Requirement already satisfied: kiwisolver>=1.0.1 in /usr/local/lib/python3.7/dist-packages (from matplotlib->elegantrl==0.3.2) (1.3.2)\n",
            "Requirement already satisfied: cycler>=0.10 in /usr/local/lib/python3.7/dist-packages (from matplotlib->elegantrl==0.3.2) (0.11.0)\n",
            "Requirement already satisfied: pyparsing!=2.0.4,!=2.1.2,!=2.1.6,>=2.0.1 in /usr/local/lib/python3.7/dist-packages (from matplotlib->elegantrl==0.3.2) (3.0.6)\n",
            "Requirement already satisfied: python-dateutil>=2.1 in /usr/local/lib/python3.7/dist-packages (from matplotlib->elegantrl==0.3.2) (2.8.2)\n",
            "Requirement already satisfied: six>=1.5 in /usr/local/lib/python3.7/dist-packages (from python-dateutil>=2.1->matplotlib->elegantrl==0.3.2) (1.15.0)\n",
            "Requirement already satisfied: typing-extensions in /usr/local/lib/python3.7/dist-packages (from torch->elegantrl==0.3.2) (3.10.0.2)\n",
            "Building wheels for collected packages: elegantrl\n",
            "  Building wheel for elegantrl (setup.py) ... \u001b[?25l\u001b[?25hdone\n",
            "  Created wheel for elegantrl: filename=elegantrl-0.3.2-py3-none-any.whl size=81836 sha256=328fa95e6e93636986a9bcf39e37cc0a049a54870907fe7b23e56c561533f481\n",
            "  Stored in directory: /tmp/pip-ephem-wheel-cache-onsk16wv/wheels/52/9a/b3/08c8a0b5be22a65da0132538c05e7e961b1253c90d6845e0c6\n",
            "Successfully built elegantrl\n",
            "Installing collected packages: pybullet, box2d-py, elegantrl\n",
            "Successfully installed box2d-py-2.3.8 elegantrl-0.3.2 pybullet-3.2.0\n"
          ]
        }
      ]
    },
    {
      "cell_type": "markdown",
      "metadata": {
        "id": "UVdmpnK_3Zcn"
      },
      "source": [
        "# **Part 3: Import Packages**\n",
        "\n",
        "\n",
        "*   **elegantrl**\n",
        "*   **OpenAI Gym**: a toolkit for developing and comparing reinforcement learning algorithms.\n",
        "*   **PyBullet Gym**: an open-source implementation of the OpenAI Gym MuJoCo environments.\n",
        "\n"
      ]
    },
    {
      "cell_type": "code",
      "metadata": {
        "id": "1VM1xKujoz-6"
      },
      "source": [
        "from elegantrl.train.run_tutorial import *\n",
        "from elegantrl.train.config import Arguments\n",
        "from elegantrl.agents.AgentTD3 import AgentTD3\n",
        "from elegantrl.envs.Gym import build_env\n",
        "import gym\n",
        "gym.logger.set_level(40) # Block warning"
      ],
      "execution_count": 2,
      "outputs": []
    },
    {
      "cell_type": "markdown",
      "metadata": {
        "id": "3n8zcgcn14uq"
      },
      "source": [
        "# **Part 4: Specify Agent and Environment**\n",
        "\n",
        "*   **args.agent**: firstly chooses one DRL algorithm to use, and the user is able to choose any agent from agent.py\n",
        "*   **args.env**: creates and preprocesses the environment, and the user can either customize own environment or preprocess environments from OpenAI Gym and PyBullet Gym from env.py.\n",
        "\n",
        "\n",
        "> Before finishing initialization of **args**, please see Arguments() in run.py for more details about adjustable hyper-parameters.\n",
        "\n",
        "\n"
      ]
    },
    {
      "cell_type": "code",
      "metadata": {
        "id": "E03f6cTeajK4"
      },
      "source": [
        "agent = AgentTD3()  # AgentSAC(), AgentTD3(), AgentDDPG()\n",
        "env = build_env('BipedalWalker-v3')\n",
        "args = Arguments(env, agent)\n",
        "\n",
        "args.eval_times1 = 2 ** 3\n",
        "args.eval_times2 = 2 ** 5\n",
        "\n",
        "args.gamma = 0.98\n",
        "args.target_step = args.env.max_step"
      ],
      "execution_count": 3,
      "outputs": []
    },
    {
      "cell_type": "markdown",
      "metadata": {
        "id": "z1j5kLHF2dhJ"
      },
      "source": [
        "# **Part 5: Train and Evaluate the Agent**\n",
        "\n",
        "> The training and evaluating processes are all finished inside function **train_and_evaluate()**, and the only parameter for it is **args**. It includes the fundamental objects in DRL:\n",
        "\n",
        "*   agent,\n",
        "*   environment.\n",
        "\n",
        "> And it also includes the parameters for training-control:\n",
        "\n",
        "*   batch_size,\n",
        "*   target_step,\n",
        "*   reward_scale,\n",
        "*   gamma, etc.\n",
        "\n",
        "> The parameters for evaluation-control:\n",
        "\n",
        "*   break_step,\n",
        "*   random_seed, etc.\n",
        "\n",
        "\n",
        "\n",
        "\n"
      ]
    },
    {
      "cell_type": "code",
      "metadata": {
        "id": "KGOPSD6da23k",
        "colab": {
          "base_uri": "https://localhost:8080/"
        },
        "outputId": "bca887a1-ceaa-4dc3-d3b4-4b94cac6bf4d"
      },
      "source": [
        "train_and_evaluate(args) # the training process will terminate once it reaches the target reward."
      ],
      "execution_count": 4,
      "outputs": [
        {
          "output_type": "stream",
          "name": "stdout",
          "text": [
            "| Remove cwd: ./AgentTD3_BipedalWalker-v3_(0,)\n",
            "################################################################################\n",
            "ID     Step    maxR |    avgR   stdR   avgS  stdS |    expR   objC   etc.\n",
            "0  3.20e+03 -112.02 |\n",
            "0  3.20e+03 -112.02 | -112.02    0.1    116     5 |    0.16   0.01  -0.00\n",
            "0  9.76e+04  -91.61 |\n",
            "0  9.76e+04  -91.61 |  -91.61    1.3    118    11 |    0.26   0.00   0.18\n",
            "0  1.54e+05  -62.80 |\n",
            "0  1.54e+05  -62.80 |  -62.80   21.6   1283   598 |    0.18   0.15   1.41\n",
            "0  1.90e+05  -48.06 |\n",
            "0  1.90e+05  -48.06 |  -48.06   37.6   1189   571 |    0.20   0.10   1.70\n",
            "0  2.24e+05  -48.06 |  -62.24   32.5    439   496 |    0.16   0.18   2.83\n",
            "0  2.59e+05  -48.06 |  -80.75   25.9   1000   618 |    0.24   0.14   1.18\n",
            "0  2.90e+05  -48.06 |  -90.59   25.0    784   635 |    0.18   0.16   0.11\n",
            "0  3.18e+05  -42.94 |\n",
            "0  3.18e+05  -42.94 |  -42.94   46.0    411   249 |    0.22   0.15   2.06\n",
            "0  3.44e+05   56.58 |\n",
            "0  3.44e+05   56.58 |   56.58  129.9    666   433 |    0.25   0.14  -0.84\n",
            "0  3.68e+05   56.58 |   -4.66   49.6    382   178 |    0.22   0.16  -1.88\n",
            "0  3.92e+05   56.58 |   47.98  104.8    449   227 |    0.20   0.12  -2.35\n",
            "0  4.16e+05   56.58 |  -10.52   63.1    322   197 |    0.25   0.15  -6.19\n",
            "0  4.38e+05   56.58 |  -10.86   25.1    285    62 |    0.23   0.30  -4.66\n",
            "0  4.61e+05   56.58 |   -3.29   45.5    333   121 |    0.23   0.29  -7.70\n",
            "0  4.82e+05   56.58 |    3.91   75.0    310   145 |    0.27   0.16  -6.77\n",
            "0  5.01e+05   56.58 |  -13.04   52.4    271   116 |    0.24   0.22  -4.91\n",
            "0  5.20e+05   56.58 |   50.77  154.8    985   565 |    0.31   0.10  -8.81\n",
            "0  5.36e+05  160.38 |\n",
            "0  5.36e+05  160.38 |  160.38  153.0    557   242 |    0.24   0.19  -7.91\n",
            "0  5.54e+05  200.14 |\n",
            "0  5.54e+05  200.14 |  200.14  147.1    630   233 |    0.22   0.14  -8.77\n",
            "0  5.71e+05  200.14 |  150.13  142.7    570   233 |    0.25   0.12  -8.71\n",
            "0  5.89e+05  200.14 |   27.03   61.4    356   130 |    0.26   0.15  -8.02\n",
            "0  6.06e+05  200.14 |   69.32  126.5    443   231 |    0.24   0.14  -9.69\n",
            "0  6.24e+05  241.93 |\n",
            "0  6.24e+05  241.93 |  241.93  125.7    628   159 |    0.28   0.20  -9.32\n",
            "0  6.40e+05  241.93 |  195.82  162.1    566   229 |    0.24   0.15  -7.41\n",
            "0  6.56e+05  250.73 |\n",
            "0  6.56e+05  250.73 |  250.73  113.8    610   131 |    0.25   0.10  -7.96\n",
            "0  6.70e+05  250.73 |   31.44  178.7    283   274 |    0.25   0.24  -9.68\n",
            "0  6.86e+05  250.73 |  173.63  122.3    546   135 |    0.26   0.41 -11.90\n",
            "0  7.01e+05  250.73 |   74.47   67.3    414   128 |    0.25   0.12 -12.86\n",
            "0  7.15e+05  250.73 |  219.52  138.5    582   203 |    0.21   0.43 -13.24\n",
            "0  7.30e+05  252.71 |\n",
            "0  7.30e+05  252.71 |  252.71  111.6    603   128 |    0.28   0.22 -10.19\n",
            "0  7.42e+05  308.63 |\n",
            "0  7.42e+05  308.63 |  308.63   65.2    667    78 |    0.29   0.17  -9.54\n",
            "| UsedTime:    7998 | SavedDir: ./AgentTD3_BipedalWalker-v3_(0,)\n",
            "| ReplayBuffer save in: ./AgentTD3_BipedalWalker-v3_(0,)/buffer_0.npz\n"
          ]
        }
      ]
    },
    {
      "cell_type": "markdown",
      "metadata": {
        "id": "JPXOxLSqh5cP"
      },
      "source": [
        "Understanding the above results::\n",
        "*   **Step**: the total training steps.\n",
        "*  **MaxR**: the maximum reward.\n",
        "*   **avgR**: the average of the rewards.\n",
        "*   **stdR**: the standard deviation of the rewards.\n",
        "*   **objA**: the objective function value of Actor Network (Policy Network).\n",
        "*   **objC**: the objective function value (Q-value)  of Critic Network (Value Network)."
      ]
    }
  ]
}